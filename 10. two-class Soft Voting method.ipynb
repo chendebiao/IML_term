{
 "cells": [
  {
   "cell_type": "markdown",
   "metadata": {},
   "source": []
  },
  {
   "cell_type": "code",
   "execution_count": 3,
   "metadata": {},
   "outputs": [],
   "source": [
    "import numpy as np\n",
    "import pandas as pd\n",
    "import matplotlib.pyplot as plt\n",
    "import seaborn as sns\n",
    "from sklearn.model_selection import RepeatedStratifiedKFold\n",
    "from sklearn.model_selection import GridSearchCV\n",
    "\n",
    "data = pd.read_csv(\"data/38_feature.csv\",index_col=0)\n",
    "data_norm = pd.read_csv(\"data/38_feature_norm.csv\",index_col=0)\n",
    "data_std_scale = pd.read_csv(\"data/38_feature_std_scale.csv\",index_col=0)\n",
    "\n",
    "X = data.iloc[:,2:]\n",
    "y2 = data['class2']\n",
    "y4 = data['class4']\n",
    "X_norm = data_norm.iloc[:,2:]\n",
    "X_std_scale = data_std_scale.iloc[:,2:]\n"
   ]
  },
  {
   "cell_type": "code",
   "execution_count": 4,
   "metadata": {},
   "outputs": [],
   "source": [
    "\n",
    "# define dataset\n",
    "from sklearn.model_selection import train_test_split\n",
    "X_train, X_test, y_train, y_test = train_test_split(\n",
    "    X_norm, y2, stratify=y2 ,test_size=0.20, random_state=12)"
   ]
  },
  {
   "cell_type": "markdown",
   "metadata": {},
   "source": [
    "## 1 Logistic Regression"
   ]
  },
  {
   "cell_type": "code",
   "execution_count": 27,
   "metadata": {},
   "outputs": [
    {
     "name": "stdout",
     "output_type": "stream",
     "text": [
      "accuracy 10-fold CV test 0.8671096096096096\n",
      "accuracy on train set 0.9016393442622951\n",
      "accuracy on test set 0.8804347826086957\n"
     ]
    }
   ],
   "source": [
    "from sklearn.linear_model import LogisticRegression\n",
    "LR_clf =LogisticRegression(C=20,penalty='l2',solver='newton-cg',random_state=1,max_iter=1000).fit(X_train, y_train)\n",
    "\n",
    "from sklearn.metrics import accuracy_score\n",
    "from sklearn.model_selection import cross_val_score, RepeatedKFold\n",
    "cv = RepeatedKFold(n_splits=10, n_repeats=10)\n",
    "scores = cross_val_score(LR_clf,X_train,y_train,cv=cv,n_jobs=-1,scoring='accuracy')\n",
    "\n",
    "\n",
    "print('accuracy 10-fold CV test',scores.mean())\n",
    "print('accuracy on train set',accuracy_score(LR_clf.predict(X_train),y_train))\n",
    "print('accuracy on test set',accuracy_score(LR_clf.predict(X_test),y_test))"
   ]
  },
  {
   "cell_type": "markdown",
   "metadata": {},
   "source": [
    "## SVM"
   ]
  },
  {
   "cell_type": "code",
   "execution_count": 28,
   "metadata": {},
   "outputs": [
    {
     "name": "stdout",
     "output_type": "stream",
     "text": [
      "accuracy 10-fold CV test 0.8676651651651652\n",
      "accuracy on train set 0.9207650273224044\n",
      "accuracy on test set 0.8695652173913043\n"
     ]
    }
   ],
   "source": [
    "from sklearn.svm import SVC\n",
    "SVC_clf =SVC(C=1.0,kernel='poly',probability=True).fit(X_train, y_train)\n",
    "\n",
    "from sklearn.metrics import accuracy_score\n",
    "from sklearn.model_selection import cross_val_score, RepeatedKFold\n",
    "cv = RepeatedKFold(n_splits=10, n_repeats=10)\n",
    "scores = cross_val_score(SVC_clf,X_train,y_train,cv=cv,n_jobs=-1,scoring='accuracy')\n",
    "\n",
    "\n",
    "print('accuracy 10-fold CV test',scores.mean())\n",
    "print('accuracy on train set',accuracy_score(SVC_clf.predict(X_train),y_train))\n",
    "print('accuracy on test set',accuracy_score(SVC_clf.predict(X_test),y_test))"
   ]
  },
  {
   "cell_type": "markdown",
   "metadata": {},
   "source": [
    "## KNN"
   ]
  },
  {
   "cell_type": "code",
   "execution_count": 29,
   "metadata": {},
   "outputs": [
    {
     "name": "stdout",
     "output_type": "stream",
     "text": [
      "accuracy 10-fold CV test 0.8535660660660659\n",
      "accuracy on train set 1.0\n",
      "accuracy on test set 0.8478260869565217\n"
     ]
    }
   ],
   "source": [
    "from sklearn.neighbors import KNeighborsClassifier\n",
    "KNN_clf = KNeighborsClassifier(metric = 'euclidean',n_neighbors=12, weights= 'distance').fit(X_train, y_train)\n",
    "\n",
    "from sklearn.metrics import accuracy_score\n",
    "from sklearn.model_selection import cross_val_score, RepeatedKFold\n",
    "cv = RepeatedKFold(n_splits=10, n_repeats=10)\n",
    "scores = cross_val_score(KNN_clf,X_train,y_train,cv=cv,n_jobs=-1,scoring='accuracy')\n",
    "\n",
    "\n",
    "print('accuracy 10-fold CV test',scores.mean())\n",
    "print('accuracy on train set',accuracy_score(KNN_clf.predict(X_train),y_train))\n",
    "print('accuracy on test set',accuracy_score(KNN_clf.predict(X_test),y_test))"
   ]
  },
  {
   "cell_type": "markdown",
   "metadata": {},
   "source": [
    "## DT"
   ]
  },
  {
   "cell_type": "code",
   "execution_count": 31,
   "metadata": {},
   "outputs": [
    {
     "name": "stdout",
     "output_type": "stream",
     "text": [
      "accuracy 10-fold CV test 0.8147522522522523\n",
      "accuracy on train set 0.8360655737704918\n",
      "accuracy on test set 0.8478260869565217\n"
     ]
    }
   ],
   "source": [
    "from sklearn.tree import DecisionTreeClassifier\n",
    "DT_clf = DecisionTreeClassifier(criterion = 'entropy',max_depth=2, max_features= None, min_samples_split=2, splitter='best')\n",
    "DT_clf.fit(X_train, y_train)\n",
    "\n",
    "from sklearn.metrics import accuracy_score\n",
    "from sklearn.model_selection import cross_val_score, RepeatedKFold\n",
    "cv = RepeatedKFold(n_splits=10, n_repeats=10)\n",
    "scores = cross_val_score(DT_clf,X_train,y_train,cv=cv,n_jobs=-1,scoring='accuracy')\n",
    "\n",
    "\n",
    "print('accuracy 10-fold CV test',scores.mean())\n",
    "print('accuracy on train set',accuracy_score(DT_clf.predict(X_train),y_train))\n",
    "print('accuracy on test set',accuracy_score(DT_clf.predict(X_test),y_test))"
   ]
  },
  {
   "cell_type": "markdown",
   "metadata": {},
   "source": [
    "## RF"
   ]
  },
  {
   "cell_type": "code",
   "execution_count": 26,
   "metadata": {},
   "outputs": [
    {
     "name": "stdout",
     "output_type": "stream",
     "text": [
      "accuracy 10-fold CV test 0.8611711711711711\n",
      "accuracy on train set 1.0\n",
      "accuracy on test set 0.8478260869565217\n"
     ]
    }
   ],
   "source": [
    "from sklearn.ensemble import RandomForestClassifier\n",
    "RF_clf = RandomForestClassifier(max_features = 'sqrt',n_estimators=1000).fit(X_train, y_train)\n",
    "\n",
    "from sklearn.metrics import accuracy_score\n",
    "from sklearn.model_selection import cross_val_score, RepeatedKFold\n",
    "cv = RepeatedKFold(n_splits=10, n_repeats=10)\n",
    "scores = cross_val_score(RF_clf,X_train,y_train,cv=cv,n_jobs=-1,scoring='accuracy')\n",
    "\n",
    "\n",
    "print('accuracy 10-fold CV test',scores.mean())\n",
    "print('accuracy on train set',accuracy_score(RF_clf.predict(X_train),y_train))\n",
    "print('accuracy on test set',accuracy_score(RF_clf.predict(X_test),y_test))"
   ]
  },
  {
   "cell_type": "markdown",
   "metadata": {},
   "source": [
    "## GB"
   ]
  },
  {
   "cell_type": "code",
   "execution_count": 15,
   "metadata": {},
   "outputs": [
    {
     "name": "stdout",
     "output_type": "stream",
     "text": [
      "accuracy 10-fold CV test 0.8642267267267267\n",
      "accuracy on train set 1.0\n",
      "accuracy on test set 0.8695652173913043\n"
     ]
    }
   ],
   "source": [
    "from sklearn.ensemble import GradientBoostingClassifier\n",
    "GB_clf = GradientBoostingClassifier(n_estimators = 1000,learning_rate=0.1,subsample=0.7,max_depth=7).fit(X_train, y_train)\n",
    "\n",
    "from sklearn.metrics import accuracy_score\n",
    "from sklearn.model_selection import cross_val_score, RepeatedKFold\n",
    "cv = RepeatedKFold(n_splits=10, n_repeats=10)\n",
    "scores = cross_val_score(GB_clf,X_train,y_train,cv=cv,n_jobs=-1,scoring='accuracy')\n",
    "\n",
    "\n",
    "print('accuracy 10-fold CV test',scores.mean())\n",
    "print('accuracy on train set',accuracy_score(GB_clf.predict(X_train),y_train))\n",
    "print('accuracy on test set',accuracy_score(GB_clf.predict(X_test),y_test))"
   ]
  },
  {
   "cell_type": "markdown",
   "metadata": {},
   "source": []
  },
  {
   "cell_type": "code",
   "execution_count": 18,
   "metadata": {},
   "outputs": [],
   "source": [
    "from sklearn.ensemble import VotingClassifier\n",
    "eclf = VotingClassifier(\n",
    "    estimators=[\\\n",
    "    ('LR_clf', LR_clf),\n",
    "    ('SVC_clf', SVC_clf),\n",
    "    ('GB_clf',GB_clf)], \n",
    "    voting='soft', \n",
    "    weights=[1, 1, 1])"
   ]
  },
  {
   "cell_type": "code",
   "execution_count": 32,
   "metadata": {},
   "outputs": [
    {
     "name": "stdout",
     "output_type": "stream",
     "text": [
      "accuracy 10-fold CV test 0.8797147147147144\n",
      "accuracy on train set 0.9808743169398907\n",
      "accuracy on test set 0.8804347826086957\n"
     ]
    }
   ],
   "source": [
    "eclf.fit(X_train, y_train)\n",
    "\n",
    "from sklearn.metrics import accuracy_score\n",
    "from sklearn.model_selection import cross_val_score, RepeatedKFold\n",
    "cv = RepeatedKFold(n_splits=10, n_repeats=10)\n",
    "scores = cross_val_score(eclf,X_train,y_train,cv=cv,n_jobs=-1,scoring='accuracy')\n",
    "\n",
    "\n",
    "print('accuracy 10-fold CV test',scores.mean())\n",
    "print('accuracy on train set',accuracy_score(eclf.predict(X_train),y_train))\n",
    "print('accuracy on test set',accuracy_score(eclf.predict(X_test),y_test))"
   ]
  },
  {
   "cell_type": "code",
   "execution_count": 20,
   "metadata": {},
   "outputs": [
    {
     "data": {
      "image/png": "[encoded data removed]",
      "text/plain": [
       "<Figure size 432x288 with 2 Axes>"
      ]
     },
     "metadata": {
      "needs_background": "light"
     },
     "output_type": "display_data"
    }
   ],
   "source": [
    "from sklearn.metrics import confusion_matrix,ConfusionMatrixDisplay\n",
    "\n",
    "cm = confusion_matrix(y_test,eclf.predict(X_test))\n",
    "disp = ConfusionMatrixDisplay(confusion_matrix=cm,display_labels=eclf.classes_)\n",
    "disp.plot()\n",
    "plt.show()"
   ]
  }
 ],
 "metadata": {
  "interpreter": {
   "hash": "5053848f1e1ce6d9c67b4d0af35009a6322e9959d1af6f676e18003e4a846f54"
  },
  "kernelspec": {
   "display_name": "Python 3.8.8 64-bit ('base': conda)",
   "language": "python",
   "name": "python3"
  },
  "language_info": {
   "codemirror_mode": {
    "name": "ipython",
    "version": 3
   },
   "file_extension": ".py",
   "mimetype": "text/x-python",
   "name": "python",
   "nbconvert_exporter": "python",
   "pygments_lexer": "ipython3",
   "version": "3.8.8"
  },
  "orig_nbformat": 4
 },
 "nbformat": 4,
 "nbformat_minor": 2
}
