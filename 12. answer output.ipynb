{
 "cells": [
  {
   "cell_type": "code",
   "execution_count": 1,
   "metadata": {},
   "outputs": [],
   "source": [
    "import numpy as np\n",
    "import pandas as pd\n",
    "import matplotlib.pyplot as plt\n",
    "import seaborn as sns\n",
    "from sklearn.model_selection import RepeatedStratifiedKFold\n",
    "from sklearn.model_selection import GridSearchCV\n",
    "\n",
    "data = pd.read_csv(\"data/38_feature.csv\",index_col=0)\n",
    "data_norm = pd.read_csv(\"data/38_feature_norm.csv\",index_col=0)\n",
    "data_std_scale = pd.read_csv(\"data/38_feature_std_scale.csv\",index_col=0)\n",
    "\n",
    "X = data.iloc[:,2:]\n",
    "y2 = data['class2']\n",
    "y4 = data['class4']\n",
    "X_norm = data_norm.iloc[:,2:]\n",
    "X_std_scale = data_std_scale.iloc[:,2:]"
   ]
  },
  {
   "cell_type": "markdown",
   "metadata": {},
   "source": [
    "## 2-class"
   ]
  },
  {
   "cell_type": "code",
   "execution_count": 2,
   "metadata": {},
   "outputs": [],
   "source": [
    "# define dataset\n",
    "from sklearn.model_selection import train_test_split\n",
    "X_train, X_test, y_train, y_test = train_test_split(\n",
    "    X_norm, y2, stratify=y2 ,test_size=0.20, random_state=12)\n",
    "\n",
    "# LR\n",
    "from sklearn.linear_model import LogisticRegression\n",
    "LR_clf =LogisticRegression(C=20,penalty='l2',solver='newton-cg',random_state=1,max_iter=1000).fit(X_train, y_train)\n",
    "\n",
    "# SVC\n",
    "from sklearn.svm import SVC\n",
    "SVC_clf =SVC(C=1.0,kernel='poly',probability=True).fit(X_train, y_train)\n",
    "\n",
    "# GB\n",
    "from sklearn.ensemble import GradientBoostingClassifier\n",
    "GB_clf = GradientBoostingClassifier(n_estimators = 1000,learning_rate=0.1,subsample=0.7,max_depth=7).fit(X_train, y_train)\n",
    "\n",
    "\n",
    "# softvoting ensemble\n",
    "\n",
    "from sklearn.ensemble import VotingClassifier\n",
    "eclf_2 = VotingClassifier(\n",
    "    estimators=[\\\n",
    "    ('LR', LR_clf),\n",
    "    ('SVC_clf', SVC_clf),\n",
    "    ('GB_clf',GB_clf)], \n",
    "    voting='soft', \n",
    "    weights=[1, 1, 1]).fit(X_train, y_train)\n",
    "\n",
    "\n"
   ]
  },
  {
   "cell_type": "markdown",
   "metadata": {},
   "source": [
    "## 4-class"
   ]
  },
  {
   "cell_type": "code",
   "execution_count": 3,
   "metadata": {},
   "outputs": [],
   "source": [
    "# define dataset\n",
    "# from sklearn.model_selection import train_test_split\n",
    "# X_train, X_test, y_train, y_test = train_test_split(\n",
    "#     X_norm, y4, stratify=y4 ,test_size=0.20, random_state=42)\n",
    "\n",
    "from sklearn.svm import SVC\n",
    "\n",
    "# Let's use all data\n",
    "clf_4 =SVC(C=10,kernel='rbf',probability=True).fit(X_norm, y4)\n"
   ]
  },
  {
   "cell_type": "markdown",
   "metadata": {},
   "source": [
    "# test_hidden data"
   ]
  },
  {
   "cell_type": "code",
   "execution_count": 4,
   "metadata": {},
   "outputs": [],
   "source": [
    "X_hidden = pd.read_csv(\"data/npf_test_hidden.csv\")\n",
    "X_hidden = X_hidden[X_hidden.columns.intersection(X.columns)]\n",
    "X_hidden_norm = (X_hidden - X_hidden.min())/(X_hidden.max()-X_hidden.min())\n",
    "X_hidden_norm = X_hidden_norm[X_norm.columns]"
   ]
  },
  {
   "cell_type": "code",
   "execution_count": 5,
   "metadata": {},
   "outputs": [],
   "source": [
    "y_4_pred = clf_4.predict(X_hidden_norm)\n",
    "y_2_pred = eclf_2.predict(X_hidden_norm)\n",
    "y_2_pred_prob = eclf_2.predict_proba(X_hidden_norm)"
   ]
  },
  {
   "cell_type": "code",
   "execution_count": 6,
   "metadata": {},
   "outputs": [],
   "source": [
    "answer = pd.DataFrame({'class4':y_4_pred,'p':y_2_pred_prob[:,0]},)\n",
    "score = 0.863353"
   ]
  },
  {
   "cell_type": "code",
   "execution_count": 7,
   "metadata": {},
   "outputs": [],
   "source": [
    "answer = answer.T\n",
    "answer.reset_index(inplace=True)\n",
    "answer = answer.T\n",
    "answer.columns = [score,\"\"]\n",
    "answer.to_csv('answer/answers.csv',index =False)"
   ]
  }
 ],
 "metadata": {
  "interpreter": {
   "hash": "5053848f1e1ce6d9c67b4d0af35009a6322e9959d1af6f676e18003e4a846f54"
  },
  "kernelspec": {
   "display_name": "Python 3.8.8 64-bit ('base': conda)",
   "language": "python",
   "name": "python3"
  },
  "language_info": {
   "codemirror_mode": {
    "name": "ipython",
    "version": 3
   },
   "file_extension": ".py",
   "mimetype": "text/x-python",
   "name": "python",
   "nbconvert_exporter": "python",
   "pygments_lexer": "ipython3",
   "version": "3.8.8"
  },
  "orig_nbformat": 4
 },
 "nbformat": 4,
 "nbformat_minor": 2
}
