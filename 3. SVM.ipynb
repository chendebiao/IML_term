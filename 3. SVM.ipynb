{
 "cells": [
  {
   "cell_type": "code",
   "execution_count": 49,
   "metadata": {},
   "outputs": [],
   "source": [
    "import numpy as np\n",
    "import pandas as pd\n",
    "import matplotlib.pyplot as plt\n",
    "import seaborn as sns\n",
    "\n",
    "from lib.feature_selection import feature_reduction\n",
    "\n",
    "from sklearn.datasets import make_blobs\n",
    "from sklearn.model_selection import RepeatedStratifiedKFold\n",
    "from sklearn.model_selection import GridSearchCV\n",
    "from sklearn.svm import SVC\n",
    "from sklearn.model_selection import train_test_split\n",
    "\n",
    "npf = pd.read_csv(\"data/npf_train.csv\")\n",
    "npf.iloc[:,5:]\n",
    "\n",
    "data = feature_reduction(npf)\n",
    "X = data.iloc[:,2:]\n",
    "y2 = data['class2']\n",
    "y4 = data['class4']\n",
    "X_norm = (X - X.min())/(X.max()-X.min())\n",
    "X_all = npf.iloc[:,5:]\n",
    "\n",
    "X = data.iloc[:,2:]\n",
    "y = data['class2']\n",
    "# define dataset\n",
    "X_train, X_test, y_train, y_test = train_test_split(\n",
    "    X_all, y2, stratify = y2, test_size=0.20, random_state=12)"
   ]
  },
  {
   "cell_type": "code",
   "execution_count": 50,
   "metadata": {},
   "outputs": [
    {
     "name": "stdout",
     "output_type": "stream",
     "text": [
      "Best: 0.847998 using {'C': 1000, 'gamma': 'scale', 'kernel': 'poly'}\n",
      "0.847998 (0.053507) with: {'C': 1000, 'gamma': 'scale', 'kernel': 'poly'}\n",
      "0.845345 (0.059177) with: {'C': 1000, 'gamma': 'scale', 'kernel': 'rbf'}\n",
      "0.694019 (0.078000) with: {'C': 1000, 'gamma': 'scale', 'kernel': 'sigmoid'}\n",
      "0.846246 (0.065632) with: {'C': 100, 'gamma': 'scale', 'kernel': 'poly'}\n",
      "0.838939 (0.052765) with: {'C': 100, 'gamma': 'scale', 'kernel': 'rbf'}\n",
      "0.703103 (0.078578) with: {'C': 100, 'gamma': 'scale', 'kernel': 'sigmoid'}\n",
      "0.807958 (0.060227) with: {'C': 10, 'gamma': 'scale', 'kernel': 'poly'}\n",
      "0.788013 (0.065759) with: {'C': 10, 'gamma': 'scale', 'kernel': 'rbf'}\n",
      "0.773373 (0.056962) with: {'C': 10, 'gamma': 'scale', 'kernel': 'sigmoid'}\n",
      "0.767918 (0.062147) with: {'C': 1.0, 'gamma': 'scale', 'kernel': 'poly'}\n",
      "0.757032 (0.053751) with: {'C': 1.0, 'gamma': 'scale', 'kernel': 'rbf'}\n",
      "0.751552 (0.057531) with: {'C': 1.0, 'gamma': 'scale', 'kernel': 'sigmoid'}\n",
      "0.747823 (0.058067) with: {'C': 0.1, 'gamma': 'scale', 'kernel': 'poly'}\n",
      "0.749650 (0.055075) with: {'C': 0.1, 'gamma': 'scale', 'kernel': 'rbf'}\n",
      "0.599299 (0.146363) with: {'C': 0.1, 'gamma': 'scale', 'kernel': 'sigmoid'}\n",
      "0.660110 (0.101443) with: {'C': 0.01, 'gamma': 'scale', 'kernel': 'poly'}\n",
      "0.593744 (0.138015) with: {'C': 0.01, 'gamma': 'scale', 'kernel': 'rbf'}\n",
      "0.599299 (0.146363) with: {'C': 0.01, 'gamma': 'scale', 'kernel': 'sigmoid'}\n"
     ]
    }
   ],
   "source": [
    "\n",
    "# define model and parameters\n",
    "model = SVC()\n",
    "kernel = ['poly', 'rbf', 'sigmoid']\n",
    "C = [1000,100, 10, 1.0, 0.1, 0.01]\n",
    "gamma = ['scale']\n",
    "# define grid search\n",
    "grid = dict(kernel=kernel,C=C,gamma=gamma)\n",
    "cv = RepeatedStratifiedKFold(n_splits=10, n_repeats=3, random_state=1)\n",
    "grid_search = GridSearchCV(estimator=model, param_grid=grid, n_jobs=-1, cv=cv, scoring='accuracy',error_score=0)\n",
    "grid_result = grid_search.fit(X_train, y_train)\n",
    "# summarize results\n",
    "print(\"Best: %f using %s\" % (grid_result.best_score_, grid_result.best_params_))\n",
    "means = grid_result.cv_results_['mean_test_score']\n",
    "stds = grid_result.cv_results_['std_test_score']\n",
    "params = grid_result.cv_results_['params']\n",
    "for mean, stdev, param in zip(means, stds, params):\n",
    "    print(\"%f (%f) with: %r\" % (mean, stdev, param))"
   ]
  },
  {
   "cell_type": "code",
   "execution_count": 51,
   "metadata": {},
   "outputs": [
    {
     "data": {
      "text/plain": [
       "0.8695652173913043"
      ]
     },
     "execution_count": 51,
     "metadata": {},
     "output_type": "execute_result"
    }
   ],
   "source": [
    "clf =SVC(C=1000,gamma='scale',kernel='poly',probability=True).fit(X_train, y_train)\n",
    "\n",
    "from sklearn.metrics import accuracy_score\n",
    "accuracy_score(clf.predict(X_test),y_test)\n",
    "\n",
    "# r = clf.predict(X_test)"
   ]
  }
 ],
 "metadata": {
  "interpreter": {
   "hash": "5053848f1e1ce6d9c67b4d0af35009a6322e9959d1af6f676e18003e4a846f54"
  },
  "kernelspec": {
   "display_name": "Python 3.8.8 64-bit ('base': conda)",
   "language": "python",
   "name": "python3"
  },
  "language_info": {
   "codemirror_mode": {
    "name": "ipython",
    "version": 3
   },
   "file_extension": ".py",
   "mimetype": "text/x-python",
   "name": "python",
   "nbconvert_exporter": "python",
   "pygments_lexer": "ipython3",
   "version": "3.8.8"
  },
  "orig_nbformat": 4
 },
 "nbformat": 4,
 "nbformat_minor": 2
}
